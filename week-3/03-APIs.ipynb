{
 "cells": [
  {
   "cell_type": "markdown",
   "id": "looking-favor",
   "metadata": {},
   "source": [
    "# APIS "
   ]
  },
  {
   "cell_type": "markdown",
   "id": "aggregate-occurrence",
   "metadata": {},
   "source": [
    "![apis_gif](https://media.giphy.com/media/wepUQluC5smgEd4Qz4/giphy.gif)"
   ]
  },
  {
   "cell_type": "markdown",
   "id": "ceramic-advocate",
   "metadata": {
    "toc": true
   },
   "source": [
    "<h1>Table of Contents<span class=\"tocSkip\"></span></h1>\n",
    "<div class=\"toc\"><ul class=\"toc-item\"><li><span><a href=\"#Libraries-summary\" data-toc-modified-id=\"Libraries-summary-1\"><span class=\"toc-item-num\">1&nbsp;&nbsp;</span>Libraries summary</a></span></li><li><span><a href=\"#Internet,-DNS,-IPs\" data-toc-modified-id=\"Internet,-DNS,-IPs-2\"><span class=\"toc-item-num\">2&nbsp;&nbsp;</span>Internet, DNS, IPs</a></span></li><li><span><a href=\"#HTTP\" data-toc-modified-id=\"HTTP-3\"><span class=\"toc-item-num\">3&nbsp;&nbsp;</span>HTTP</a></span><ul class=\"toc-item\"><li><span><a href=\"#URL\" data-toc-modified-id=\"URL-3.1\"><span class=\"toc-item-num\">3.1&nbsp;&nbsp;</span>URL</a></span></li><li><span><a href=\"#HTTP-vs-HTTPS\" data-toc-modified-id=\"HTTP-vs-HTTPS-3.2\"><span class=\"toc-item-num\">3.2&nbsp;&nbsp;</span>HTTP vs HTTPS</a></span></li><li><span><a href=\"#Requests\" data-toc-modified-id=\"Requests-3.3\"><span class=\"toc-item-num\">3.3&nbsp;&nbsp;</span>Requests</a></span></li><li><span><a href=\"#Response\" data-toc-modified-id=\"Response-3.4\"><span class=\"toc-item-num\">3.4&nbsp;&nbsp;</span>Response</a></span></li></ul></li><li><span><a href=\"#API\" data-toc-modified-id=\"API-4\"><span class=\"toc-item-num\">4&nbsp;&nbsp;</span>API</a></span><ul class=\"toc-item\"><li><span><a href=\"#RESTful-APIs\" data-toc-modified-id=\"RESTful-APIs-4.1\"><span class=\"toc-item-num\">4.1&nbsp;&nbsp;</span>RESTful APIs</a></span></li></ul></li><li><span><a href=\"#Let's-go\" data-toc-modified-id=\"Let's-go-5\"><span class=\"toc-item-num\">5&nbsp;&nbsp;</span>Let's go</a></span><ul class=\"toc-item\"><li><span><a href=\"#Requests-in-Python\" data-toc-modified-id=\"Requests-in-Python-5.1\"><span class=\"toc-item-num\">5.1&nbsp;&nbsp;</span>Requests in Python</a></span></li><li><span><a href=\"#HTML-response\" data-toc-modified-id=\"HTML-response-5.2\"><span class=\"toc-item-num\">5.2&nbsp;&nbsp;</span>HTML response</a></span></li><li><span><a href=\"#JSON-response\" data-toc-modified-id=\"JSON-response-5.3\"><span class=\"toc-item-num\">5.3&nbsp;&nbsp;</span>JSON response</a></span></li><li><span><a href=\"#Data-management-in-pandas\" data-toc-modified-id=\"Data-management-in-pandas-5.4\"><span class=\"toc-item-num\">5.4&nbsp;&nbsp;</span>Data management in pandas</a></span></li><li><span><a href=\"#Parameters\" data-toc-modified-id=\"Parameters-5.5\"><span class=\"toc-item-num\">5.5&nbsp;&nbsp;</span>Parameters</a></span></li></ul></li><li><span><a href=\"#It's-now-your-turn\" data-toc-modified-id=\"It's-now-your-turn-6\"><span class=\"toc-item-num\">6&nbsp;&nbsp;</span>It's now your turn</a></span></li><li><span><a href=\"#STEPS-TO-GET-REPONSES\" data-toc-modified-id=\"STEPS-TO-GET-REPONSES-7\"><span class=\"toc-item-num\">7&nbsp;&nbsp;</span>STEPS TO GET REPONSES</a></span></li><li><span><a href=\"#STEPS-TO-MANIPULATE-THE-RESPONSES\" data-toc-modified-id=\"STEPS-TO-MANIPULATE-THE-RESPONSES-8\"><span class=\"toc-item-num\">8&nbsp;&nbsp;</span>STEPS TO MANIPULATE THE RESPONSES</a></span></li><li><span><a href=\"#Headers\" data-toc-modified-id=\"Headers-9\"><span class=\"toc-item-num\">9&nbsp;&nbsp;</span>Headers</a></span></li><li><span><a href=\"#API-Keys-/-tokens-/-private_keys\" data-toc-modified-id=\"API-Keys-/-tokens-/-private_keys-10\"><span class=\"toc-item-num\">10&nbsp;&nbsp;</span>API Keys / tokens / private_keys</a></span><ul class=\"toc-item\"><li><span><a href=\"#Mini-recap\" data-toc-modified-id=\"Mini-recap-10.1\"><span class=\"toc-item-num\">10.1&nbsp;&nbsp;</span>Mini-recap</a></span></li></ul></li><li><span><a href=\"#API-Wrappers\" data-toc-modified-id=\"API-Wrappers-11\"><span class=\"toc-item-num\">11&nbsp;&nbsp;</span>API Wrappers</a></span><ul class=\"toc-item\"><li><span><a href=\"#Accessing-the-Twitter-API-with-Python\" data-toc-modified-id=\"Accessing-the-Twitter-API-with-Python-11.1\"><span class=\"toc-item-num\">11.1&nbsp;&nbsp;</span>Accessing the Twitter API with Python</a></span></li><li><span><a href=\"#Store-tweets-from-an-open-account?\" data-toc-modified-id=\"Store-tweets-from-an-open-account?-11.2\"><span class=\"toc-item-num\">11.2&nbsp;&nbsp;</span>Store tweets from an open account?</a></span></li></ul></li><li><span><a href=\"#API-Clients\" data-toc-modified-id=\"API-Clients-12\"><span class=\"toc-item-num\">12&nbsp;&nbsp;</span>API Clients</a></span><ul class=\"toc-item\"><li><span><a href=\"#THIS-IS-FROM-RAPIDAPI--->-https://rapidapi.com/community/api/open-weather-map/\" data-toc-modified-id=\"THIS-IS-FROM-RAPIDAPI--->-https://rapidapi.com/community/api/open-weather-map/-12.1\"><span class=\"toc-item-num\">12.1&nbsp;&nbsp;</span>THIS IS FROM RAPIDAPI --&gt; <a href=\"https://rapidapi.com/community/api/open-weather-map/\" rel=\"nofollow\" target=\"_blank\">https://rapidapi.com/community/api/open-weather-map/</a></a></span></li><li><span><a href=\"#Insomnia\" data-toc-modified-id=\"Insomnia-12.2\"><span class=\"toc-item-num\">12.2&nbsp;&nbsp;</span>Insomnia</a></span></li><li><span><a href=\"#Codes-generated-by-insomnia\" data-toc-modified-id=\"Codes-generated-by-insomnia-12.3\"><span class=\"toc-item-num\">12.3&nbsp;&nbsp;</span>Codes generated by insomnia</a></span></li></ul></li><li><span><a href=\"#Spotify\" data-toc-modified-id=\"Spotify-13\"><span class=\"toc-item-num\">13&nbsp;&nbsp;</span>Spotify</a></span><ul class=\"toc-item\"><li><span><a href=\"#Load-initial-credentials\" data-toc-modified-id=\"Load-initial-credentials-13.1\"><span class=\"toc-item-num\">13.1&nbsp;&nbsp;</span>Load initial credentials</a></span></li><li><span><a href=\"#Get-token-from-those-initial-credentials\" data-toc-modified-id=\"Get-token-from-those-initial-credentials-13.2\"><span class=\"toc-item-num\">13.2&nbsp;&nbsp;</span>Get token from those initial credentials</a></span></li><li><span><a href=\"#With-token,-we-can-create-the-headers\" data-toc-modified-id=\"With-token,-we-can-create-the-headers-13.3\"><span class=\"toc-item-num\">13.3&nbsp;&nbsp;</span>With token, we can create the headers</a></span></li><li><span><a href=\"#The-actual-data\" data-toc-modified-id=\"The-actual-data-13.4\"><span class=\"toc-item-num\">13.4&nbsp;&nbsp;</span>The actual data</a></span></li></ul></li><li><span><a href=\"#Summary\" data-toc-modified-id=\"Summary-14\"><span class=\"toc-item-num\">14&nbsp;&nbsp;</span>Summary</a></span><ul class=\"toc-item\"><li><span><a href=\"#What-APIs-are\" data-toc-modified-id=\"What-APIs-are-14.1\"><span class=\"toc-item-num\">14.1&nbsp;&nbsp;</span>What APIs are</a></span></li><li><span><a href=\"#How-they-work\" data-toc-modified-id=\"How-they-work-14.2\"><span class=\"toc-item-num\">14.2&nbsp;&nbsp;</span>How they work</a></span></li><li><span><a href=\"#Authentication\" data-toc-modified-id=\"Authentication-14.3\"><span class=\"toc-item-num\">14.3&nbsp;&nbsp;</span>Authentication</a></span></li><li><span><a href=\"#Process\" data-toc-modified-id=\"Process-14.4\"><span class=\"toc-item-num\">14.4&nbsp;&nbsp;</span>Process</a></span></li></ul></li><li><span><a href=\"#Further-materials\" data-toc-modified-id=\"Further-materials-15\"><span class=\"toc-item-num\">15&nbsp;&nbsp;</span>Further materials</a></span></li></ul></div>"
   ]
  },
  {
   "cell_type": "markdown",
   "id": "259fc652",
   "metadata": {
    "lang": "en"
   },
   "source": [
    "## Libraries summary"
   ]
  },
  {
   "cell_type": "code",
   "execution_count": null,
   "id": "planned-satisfaction",
   "metadata": {},
   "outputs": [],
   "source": [
    "import requests \n",
    "import json\n",
    "import os\n",
    "from dotenv import load_dotenv\n",
    "import pandas as pd\n",
    "from pandas import json_normalize\n",
    "import tweepy\n",
    "import time"
   ]
  },
  {
   "cell_type": "code",
   "execution_count": null,
   "id": "12caed50",
   "metadata": {},
   "outputs": [],
   "source": [
    "load_dotenv()"
   ]
  },
  {
   "cell_type": "markdown",
   "id": "cosmetic-creator",
   "metadata": {},
   "source": [
    "## Internet, DNS, IPs"
   ]
  },
  {
   "cell_type": "markdown",
   "id": "suspended-macedonia",
   "metadata": {},
   "source": [
    "![enjuto](https://www.publico.es/files/article_main/uploads//2014/12/13/548bb18f1d9ef.jpg)"
   ]
  },
  {
   "cell_type": "markdown",
   "id": "69084d6b",
   "metadata": {
    "lang": "en"
   },
   "source": [
    "- DNS (Domain Name Server): Maps the Internet address www.google.com to the server IP: 216.58.222.196\n",
    "- IP: server identification. code that allows information to be sent and received by the correct parties\n",
    "- Domain providers: they sell and buy Internet domains"
   ]
  },
  {
   "cell_type": "markdown",
   "id": "oriented-bride",
   "metadata": {},
   "source": [
    "## HTTP"
   ]
  },
  {
   "cell_type": "markdown",
   "id": "d16828a5",
   "metadata": {
    "lang": "en"
   },
   "source": [
    "**H**yper **T**ext **T**transfer **P**rotocolo\n",
    "HTTP is a communications protocol that provides a structure for requests between client and server on a network.\n",
    "For example, the web browser on the user's computer (the client) uses the HTTP protocol to request information from a website on a server."
   ]
  },
  {
   "cell_type": "code",
   "execution_count": null,
   "id": "55fa64f5",
   "metadata": {},
   "outputs": [],
   "source": []
  },
  {
   "cell_type": "markdown",
   "id": "5ce30e09",
   "metadata": {
    "lang": "en"
   },
   "source": [
    "### URL\n",
    "Contains information about the resource that is being requested from the SERVER.\n",
    "Examples:\n",
    "\n",
    "- https://www.google.com/webhp?authuser=2\n",
    "- https://www.towardsdatascience.com\n",
    "- https://www.ironhack.com/\n",
    "- Protocol: https (https == http is the same but https is encrypted)\n",
    "- Domain name --> IRONHACK\n",
    "- TLD (top level domain) --> .com"
   ]
  },
  {
   "cell_type": "markdown",
   "id": "f3c895c9",
   "metadata": {
    "lang": "en"
   },
   "source": [
    "### HTTP vs HTTPS\n",
    "\n",
    "- HTTP transfers data in plain text while HTTPS transfers data in encrypted text.\n",
    "- HTTP is faster than HTTPS because the latter consumes computing power to encrypt the communication channel."
   ]
  },
  {
   "cell_type": "markdown",
   "id": "elegant-british",
   "metadata": {},
   "source": [
    "### Requests"
   ]
  },
  {
   "cell_type": "markdown",
   "id": "26c28ba4",
   "metadata": {
    "lang": "en"
   },
   "source": [
    "The **Requests** are questions that we ask a SERVER to receive information (a **response**).\n",
    "Types of request (verb):\n",
    "- GET: read the information from the resource, and do not modify it in any way. Accessing the web page from the browser **gets** information.\n",
    "- POST\n",
    "- PUT\n",
    "- DELETE\n",
    "- PATCH\n",
    "- ..."
   ]
  },
  {
   "cell_type": "markdown",
   "id": "20dce799",
   "metadata": {
    "lang": "en"
   },
   "source": [
    "### Response\n",
    "Responses can be of various types:\n",
    "* a JSON (similar to Python's dictionary)\n",
    "* an image\n",
    "* a video* an HTML page\n",
    "* a PDF file\n",
    "* ..."
   ]
  },
  {
   "cell_type": "code",
   "execution_count": null,
   "id": "aba002fc",
   "metadata": {},
   "outputs": [],
   "source": [
    "# we'll see this now\n",
    "\n",
    "\n",
    "'{\"\":\"\"}' #object\n",
    "\n",
    "#conversion into -> \n",
    "\n",
    "{\"\":\"\"} #dictionary\n",
    "\n"
   ]
  },
  {
   "cell_type": "markdown",
   "id": "2686f816",
   "metadata": {
    "lang": "en"
   },
   "source": [
    "The responses follow the following structure. Have:\n",
    "- a HEADER section: contains metadata about the behavior of the server\n",
    "- a BODY: contains the desired information\n",
    "\n",
    "An important part of the HEADER is the **status code**. This code is a numeric code indicating the result of the server. There are different status codes depending on whether the server has succeeded in making the request or has failed to do anything. Here are some groups of status codes:\n",
    "\n",
    "- **2xx** successful__: the request was received, understood and accepted successfully\n",
    "- **3xx** redirect__: more action is needed to complete the request\n",
    "- **4xx** client error__: request contains incorrect syntax or cannot be fulfilled\n",
    "- **5xx** server error__: the server was unable to complete an apparently valid request\n",
    "\n",
    "Complete list:\n",
    "https://en.wikipedia.org/wiki/List_of_HTTP_status_codes\n",
    "\n",
    "Much more fun:\n",
    "https://http.cat/"
   ]
  },
  {
   "cell_type": "markdown",
   "id": "going-question",
   "metadata": {},
   "source": [
    "## API"
   ]
  },
  {
   "cell_type": "markdown",
   "id": "07f5a004",
   "metadata": {
    "lang": "en"
   },
   "source": [
    "**A**pplication **P**rogramming **I**nterface\n",
    "- In the cloud era, programs need to communicate over the Internet.\n",
    "- Within a project, the backend may want to share information with the frontend without access to the database.\n",
    "- It is a contract between software products.\n",
    "* It is an instruction manual to use a software.\n",
    "* The client calls the server through an API, the server responds."
   ]
  },
  {
   "cell_type": "markdown",
   "id": "headed-quarterly",
   "metadata": {},
   "source": [
    "### RESTful APIs"
   ]
  },
  {
   "cell_type": "markdown",
   "id": "0cae99ba",
   "metadata": {
    "lang": "en"
   },
   "source": [
    "Most interactive APIs follow REST logic, a set of rules\n",
    "- [REST Guiding Principles](https://restfulapi.net/)\n",
    "\n",
    "Who does what:\n",
    "- We (client) send a request\n",
    "- They (server) return a response, usually in JSON format\n",
    "\n",
    "APIs always have to offer documentation of their different services: **endpoints**<br>\n",
    "Each endpoint is a different URL"
   ]
  },
  {
   "cell_type": "markdown",
   "id": "respiratory-settle",
   "metadata": {},
   "source": [
    "## Let's go"
   ]
  },
  {
   "cell_type": "markdown",
   "id": "18797a28",
   "metadata": {
    "lang": "en"
   },
   "source": [
    "### Requests in Python"
   ]
  },
  {
   "cell_type": "markdown",
   "id": "parallel-makeup",
   "metadata": {},
   "source": [
    "https://requests.readthedocs.io/en/master/"
   ]
  },
  {
   "cell_type": "code",
   "execution_count": null,
   "id": "immediate-headset",
   "metadata": {},
   "outputs": [],
   "source": [
    "#!pip install requests\n",
    "#conda install requests"
   ]
  },
  {
   "cell_type": "code",
   "execution_count": null,
   "id": "lesser-customs",
   "metadata": {},
   "outputs": [],
   "source": [
    "import requests"
   ]
  },
  {
   "cell_type": "markdown",
   "id": "opponent-missouri",
   "metadata": {},
   "source": [
    "### HTML response"
   ]
  },
  {
   "cell_type": "markdown",
   "id": "e3abefeb",
   "metadata": {
    "lang": "en"
   },
   "source": [
    "I can call a url and have all the html, all the response from the server."
   ]
  },
  {
   "cell_type": "code",
   "execution_count": null,
   "id": "active-intelligence",
   "metadata": {},
   "outputs": [],
   "source": [
    "response_pais = requests.get(\"https://elpais.com\")"
   ]
  },
  {
   "cell_type": "code",
   "execution_count": null,
   "id": "3ae75593",
   "metadata": {},
   "outputs": [],
   "source": [
    "response_pais.headers"
   ]
  },
  {
   "cell_type": "code",
   "execution_count": null,
   "id": "21656505",
   "metadata": {},
   "outputs": [],
   "source": [
    "response_pais.status_code"
   ]
  },
  {
   "cell_type": "code",
   "execution_count": null,
   "id": "0d632b6a",
   "metadata": {},
   "outputs": [],
   "source": [
    "response_pais.content"
   ]
  },
  {
   "cell_type": "code",
   "execution_count": null,
   "id": "a0aeedf9",
   "metadata": {},
   "outputs": [],
   "source": [
    "\"gobierno\" in str(response_pais.content)"
   ]
  },
  {
   "cell_type": "markdown",
   "id": "northern-indian",
   "metadata": {},
   "source": [
    "### JSON response"
   ]
  },
  {
   "cell_type": "markdown",
   "id": "appointed-ready",
   "metadata": {},
   "source": [
    "JSON: Java Script Object Notation"
   ]
  },
  {
   "cell_type": "markdown",
   "id": "28cad090",
   "metadata": {
    "lang": "en"
   },
   "source": [
    "Let's get information from the ISS (international space station)"
   ]
  },
  {
   "cell_type": "markdown",
   "id": "biblical-consultation",
   "metadata": {},
   "source": [
    "[ISS API documentation](https://wheretheiss.at/w/developer)"
   ]
  },
  {
   "cell_type": "code",
   "execution_count": null,
   "id": "c8236435",
   "metadata": {},
   "outputs": [],
   "source": [
    "url = \"https://api.wheretheiss.at/v1/satellites\""
   ]
  },
  {
   "cell_type": "code",
   "execution_count": null,
   "id": "775734a2",
   "metadata": {},
   "outputs": [],
   "source": [
    "res = requests.get(url)"
   ]
  },
  {
   "cell_type": "code",
   "execution_count": null,
   "id": "b1118d44",
   "metadata": {},
   "outputs": [],
   "source": [
    "res # 200 staus_code is OK"
   ]
  },
  {
   "cell_type": "code",
   "execution_count": null,
   "id": "480ddf84",
   "metadata": {
    "scrolled": true
   },
   "outputs": [],
   "source": [
    "res.headers"
   ]
  },
  {
   "cell_type": "markdown",
   "id": "ee690bdb",
   "metadata": {
    "lang": "en"
   },
   "source": [
    "If the Content-Type of the response is json, we can access it with `.json()`\n",
    "[Documentation](https://docs.python.org/3/library/json.html)"
   ]
  },
  {
   "cell_type": "code",
   "execution_count": null,
   "id": "894b4988",
   "metadata": {},
   "outputs": [],
   "source": [
    "res.content[0][\"name\"] #need to pass the .json() first"
   ]
  },
  {
   "cell_type": "code",
   "execution_count": null,
   "id": "d706bba5",
   "metadata": {},
   "outputs": [],
   "source": [
    "res.content"
   ]
  },
  {
   "cell_type": "code",
   "execution_count": null,
   "id": "a81c1ff2",
   "metadata": {},
   "outputs": [],
   "source": [
    ".json() # -> transform from json to python dictionary "
   ]
  },
  {
   "cell_type": "code",
   "execution_count": null,
   "id": "0260f81e",
   "metadata": {
    "scrolled": true
   },
   "outputs": [],
   "source": [
    "res.json()[0][\"id\"]"
   ]
  },
  {
   "cell_type": "code",
   "execution_count": null,
   "id": "f23cc577",
   "metadata": {},
   "outputs": [],
   "source": [
    "url_bad = \"https://api.wheretheiss.at/v1/satellite\""
   ]
  },
  {
   "cell_type": "code",
   "execution_count": null,
   "id": "9251cb9a",
   "metadata": {},
   "outputs": [],
   "source": [
    "res_bad = requests.get(url_bad)"
   ]
  },
  {
   "cell_type": "code",
   "execution_count": null,
   "id": "ae25746c",
   "metadata": {},
   "outputs": [],
   "source": [
    "res_bad"
   ]
  },
  {
   "cell_type": "markdown",
   "id": "662a5bd2",
   "metadata": {
    "lang": "en"
   },
   "source": [
    "We make the call to the satellites endpoint with the id because it has already been returned to us by the previous request"
   ]
  },
  {
   "cell_type": "code",
   "execution_count": null,
   "id": "04350569",
   "metadata": {},
   "outputs": [],
   "source": [
    "id_satellite = res.json()[0][\"id\"]\n",
    "id_satellite"
   ]
  },
  {
   "cell_type": "code",
   "execution_count": null,
   "id": "legislative-acoustic",
   "metadata": {},
   "outputs": [],
   "source": [
    "url = f\"https://api.wheretheiss.at/v1/satellites/{id_satellite}\"\n",
    "url"
   ]
  },
  {
   "cell_type": "code",
   "execution_count": null,
   "id": "27afe146",
   "metadata": {
    "scrolled": true
   },
   "outputs": [],
   "source": [
    "res_iss = requests.get(url)\n",
    "res_iss"
   ]
  },
  {
   "cell_type": "code",
   "execution_count": null,
   "id": "ff93565f",
   "metadata": {},
   "outputs": [],
   "source": [
    "type(res_iss)"
   ]
  },
  {
   "cell_type": "code",
   "execution_count": null,
   "id": "214392a6",
   "metadata": {},
   "outputs": [],
   "source": [
    "type(res_iss.json())"
   ]
  },
  {
   "cell_type": "code",
   "execution_count": null,
   "id": "1ea3793a",
   "metadata": {},
   "outputs": [],
   "source": [
    "iss_info = res_iss.json()\n",
    "iss_info"
   ]
  },
  {
   "cell_type": "code",
   "execution_count": null,
   "id": "40147b72",
   "metadata": {},
   "outputs": [],
   "source": [
    "lat, long = (iss_info[\"latitude\"], iss_info[\"longitude\"])"
   ]
  },
  {
   "cell_type": "code",
   "execution_count": null,
   "id": "495e55e6",
   "metadata": {},
   "outputs": [],
   "source": [
    "lat"
   ]
  },
  {
   "cell_type": "code",
   "execution_count": null,
   "id": "2f003c42",
   "metadata": {
    "scrolled": true
   },
   "outputs": [],
   "source": [
    "long"
   ]
  },
  {
   "cell_type": "markdown",
   "id": "c0e4b41e",
   "metadata": {
    "lang": "en"
   },
   "source": [
    "### Data management in pandas"
   ]
  },
  {
   "cell_type": "code",
   "execution_count": null,
   "id": "ongoing-georgia",
   "metadata": {},
   "outputs": [],
   "source": [
    "import pandas as pd"
   ]
  },
  {
   "cell_type": "code",
   "execution_count": null,
   "id": "4dd53741",
   "metadata": {},
   "outputs": [],
   "source": [
    "iss_info # -> requests.get(url).json()"
   ]
  },
  {
   "cell_type": "code",
   "execution_count": null,
   "id": "eb380693",
   "metadata": {},
   "outputs": [],
   "source": [
    "df1 = pd.DataFrame.from_dict(iss_info) # scalar values, you need to pass an index\n",
    "df1"
   ]
  },
  {
   "cell_type": "code",
   "execution_count": null,
   "id": "c26e7084",
   "metadata": {},
   "outputs": [],
   "source": [
    "df2 = pd.DataFrame.from_dict(iss_info, orient=\"index\")\n",
    "df2"
   ]
  },
  {
   "cell_type": "code",
   "execution_count": null,
   "id": "d5e375ae",
   "metadata": {},
   "outputs": [],
   "source": [
    "new_iss_info = [iss_info] #I create a list out of the dictionary\n",
    "# so that pandas takes it\n",
    "df2 = pd.DataFrame(new_iss_info)\n",
    "df2"
   ]
  },
  {
   "cell_type": "code",
   "execution_count": null,
   "id": "f0e7b798",
   "metadata": {},
   "outputs": [],
   "source": [
    "from pandas import json_normalize"
   ]
  },
  {
   "cell_type": "code",
   "execution_count": null,
   "id": "f77b7a3a",
   "metadata": {},
   "outputs": [],
   "source": [
    "a_json = requests.get(url).json()\n",
    "a_json"
   ]
  },
  {
   "cell_type": "code",
   "execution_count": null,
   "id": "36b6eb6e",
   "metadata": {},
   "outputs": [],
   "source": [
    "json_normalize(a_json) #receives: dict, returns: df. it saves me some steps"
   ]
  },
  {
   "cell_type": "code",
   "execution_count": null,
   "id": "8d9f80f3",
   "metadata": {},
   "outputs": [],
   "source": [
    "import time\n",
    "positions = []\n",
    "\n",
    "for i in range(10):\n",
    "    time.sleep(1)\n",
    "    print(i)\n",
    "    res = requests.get(url).json()\n",
    "    positions.append(res)\n",
    "json_normalize(positions)"
   ]
  },
  {
   "cell_type": "code",
   "execution_count": null,
   "id": "e7f25267",
   "metadata": {},
   "outputs": [],
   "source": [
    "filter(function, f2, column)\n",
    "filter(fiunction) -> coalesce"
   ]
  },
  {
   "cell_type": "markdown",
   "id": "967581a1",
   "metadata": {
    "lang": "en"
   },
   "source": [
    "### Parameters"
   ]
  },
  {
   "cell_type": "markdown",
   "id": "bea0378c",
   "metadata": {
    "lang": "en"
   },
   "source": [
    "Remember... The API Documentation\n",
    "https://wheretheiss.at/w/developer"
   ]
  },
  {
   "cell_type": "markdown",
   "id": "round-miracle",
   "metadata": {},
   "source": [
    "![captura](../images/parameters.png)"
   ]
  },
  {
   "cell_type": "markdown",
   "id": "bf1e3d89",
   "metadata": {
    "lang": "en"
   },
   "source": [
    "Sometimes we want to pass some parameters to an API endpoint.\n",
    "Similar to python functions receiving parameters for different behavior"
   ]
  },
  {
   "cell_type": "markdown",
   "id": "34017582",
   "metadata": {
    "lang": "en"
   },
   "source": [
    "Parameters are passed with `?param1=value1&param2=value2...` at the end of the URL"
   ]
  },
  {
   "cell_type": "code",
   "execution_count": null,
   "id": "vital-grace",
   "metadata": {},
   "outputs": [],
   "source": [
    "url = \"https://api.wheretheiss.at/v1/satellites/25544?units=kilometers\""
   ]
  },
  {
   "cell_type": "code",
   "execution_count": null,
   "id": "69611c3c",
   "metadata": {},
   "outputs": [],
   "source": [
    "res = requests.get(url).json()\n",
    "res"
   ]
  },
  {
   "cell_type": "code",
   "execution_count": null,
   "id": "c8b34197",
   "metadata": {},
   "outputs": [],
   "source": [
    "url = \"https://api.wheretheiss.at/v1/satellites/25544?units=miles\""
   ]
  },
  {
   "cell_type": "code",
   "execution_count": null,
   "id": "18b3d679",
   "metadata": {},
   "outputs": [],
   "source": [
    "res = requests.get(url).json()\n",
    "res"
   ]
  },
  {
   "cell_type": "markdown",
   "id": "152dc1f6",
   "metadata": {
    "lang": "en"
   },
   "source": [
    "The `requests` library lets pass the parameters as a dictionary"
   ]
  },
  {
   "cell_type": "code",
   "execution_count": null,
   "id": "allied-uncertainty",
   "metadata": {},
   "outputs": [],
   "source": [
    "parameter = {\"units\":\"kilometers\"}"
   ]
  },
  {
   "cell_type": "code",
   "execution_count": null,
   "id": "ea946ab2",
   "metadata": {},
   "outputs": [],
   "source": [
    "url = \"https://api.wheretheiss.at/v1/satellites/25544\"\n",
    "res = requests.get(url, params = parameter).json()\n",
    "res"
   ]
  },
  {
   "cell_type": "markdown",
   "id": "68d80f0b",
   "metadata": {
    "lang": "en"
   },
   "source": [
    "## It's now your turn"
   ]
  },
  {
   "cell_type": "markdown",
   "id": "f26e8ebb",
   "metadata": {},
   "source": [
    "- https://api.chucknorris.io/"
   ]
  },
  {
   "cell_type": "markdown",
   "id": "9dae3a18",
   "metadata": {},
   "source": [
    "## Small recap\n",
    "\n",
    "- Request to a regular website: response will be a HTML document\n",
    "- API: json  \n",
    "    \n",
    "- APIs exist only if people create them\n",
    "\n",
    "- How do I find the API for something? \n",
    "1. It needs to exist: https://something.com\n",
    "2. Read the docs: https://api.something.com\n",
    "\n",
    "\n",
    "I'm getting an HTML document and the HTMLdocument.json() doesn't work\n",
    "If you pass .json() to a request object -> python thingy"
   ]
  },
  {
   "cell_type": "markdown",
   "id": "9f46ac9e",
   "metadata": {
    "lang": "en"
   },
   "source": [
    "Check out this API... 👆or any other, [YOU CAN LOOK HERE](https://github.com/public-apis/public-apis) to do the exercise.\n",
    "Try to call an API, with or without parameters and... get some information!!"
   ]
  },
  {
   "cell_type": "code",
   "execution_count": null,
   "id": "strategic-communications",
   "metadata": {},
   "outputs": [],
   "source": [
    "# GET A RESPONSE INTO A DATAFRAME"
   ]
  },
  {
   "cell_type": "code",
   "execution_count": null,
   "id": "87166d06",
   "metadata": {},
   "outputs": [],
   "source": [
    "# GASPAR\n",
    "\n",
    "response = requests.get(\"http://dog-api.kinduff.com/api/facts\")\n",
    "dictionary_fact = response.json()\n",
    "dictionary_fact"
   ]
  },
  {
   "cell_type": "code",
   "execution_count": null,
   "id": "4a242bb5",
   "metadata": {},
   "outputs": [],
   "source": [
    "dictionary_fact[\"facts\"][0]"
   ]
  },
  {
   "cell_type": "code",
   "execution_count": null,
   "id": "4554e549",
   "metadata": {},
   "outputs": [],
   "source": [
    "df = pd.DataFrame(dictionary_fact)\n",
    "falagalera = dictionary_fact[\"facts\"]\n",
    "bomdia = falagalera[0]\n",
    "print(bomdia)\n",
    "df"
   ]
  },
  {
   "cell_type": "code",
   "execution_count": null,
   "id": "0099957b",
   "metadata": {},
   "outputs": [],
   "source": [
    "# VENICE\n",
    "\n",
    "response = requests.get('https://arbeitnow.com/api/job-board-api')\n",
    "response"
   ]
  },
  {
   "cell_type": "code",
   "execution_count": null,
   "id": "b805f67d",
   "metadata": {
    "scrolled": false
   },
   "outputs": [],
   "source": [
    "response.content[:100]"
   ]
  },
  {
   "cell_type": "code",
   "execution_count": null,
   "id": "69b6de2d",
   "metadata": {},
   "outputs": [],
   "source": [
    "response.content[:100]"
   ]
  },
  {
   "cell_type": "code",
   "execution_count": null,
   "id": "fe12f7c7",
   "metadata": {
    "scrolled": false
   },
   "outputs": [],
   "source": [
    "python_dict = response.json()\n",
    "python_dict.keys()"
   ]
  },
  {
   "cell_type": "code",
   "execution_count": null,
   "id": "fdfbf540",
   "metadata": {
    "scrolled": false
   },
   "outputs": [],
   "source": [
    "python_dict[\"data\"]"
   ]
  },
  {
   "cell_type": "code",
   "execution_count": null,
   "id": "4ebd0181",
   "metadata": {},
   "outputs": [],
   "source": [
    "python_dict[\"data\"][0][\"title\"]"
   ]
  },
  {
   "cell_type": "code",
   "execution_count": null,
   "id": "d9622035",
   "metadata": {
    "scrolled": false
   },
   "outputs": [],
   "source": [
    "python_dict[\"data\"][0][\"title\"]"
   ]
  },
  {
   "cell_type": "code",
   "execution_count": null,
   "id": "ffab328d",
   "metadata": {},
   "outputs": [],
   "source": [
    "pd.DataFrame(python_dict[\"data\"]) # This is a list with dictionaries inside, so\n",
    "# pandas can handle it through pd.DataFrame(list)"
   ]
  },
  {
   "cell_type": "code",
   "execution_count": null,
   "id": "85c3190e",
   "metadata": {
    "scrolled": true
   },
   "outputs": [],
   "source": [
    "df = json_normalize(response.json())\n",
    "df"
   ]
  },
  {
   "cell_type": "code",
   "execution_count": null,
   "id": "fe95fac3",
   "metadata": {},
   "outputs": [],
   "source": [
    "#PETER: excuser\n",
    "\n",
    "res = requests.get(\"https://excuser.herokuapp.com/v1/excuse/5\")\n",
    "res"
   ]
  },
  {
   "cell_type": "code",
   "execution_count": null,
   "id": "a324a8e9",
   "metadata": {},
   "outputs": [],
   "source": [
    "dict_res = res.json()\n",
    "dict_res"
   ]
  },
  {
   "cell_type": "code",
   "execution_count": null,
   "id": "09215ca9",
   "metadata": {},
   "outputs": [],
   "source": [
    "df_dict_res = pd.DataFrame(dict_res)\n",
    "df_dict_res"
   ]
  },
  {
   "cell_type": "code",
   "execution_count": null,
   "id": "84944057",
   "metadata": {},
   "outputs": [],
   "source": [
    "#AMERI\n",
    "\n",
    "url = \"https://api.breakingbadquotes.xyz/v1/quotes/10\" "
   ]
  },
  {
   "cell_type": "code",
   "execution_count": null,
   "id": "687ad17a",
   "metadata": {},
   "outputs": [],
   "source": [
    "res = requests.get(url)\n",
    "res"
   ]
  },
  {
   "cell_type": "code",
   "execution_count": null,
   "id": "36d9e3ad",
   "metadata": {},
   "outputs": [],
   "source": [
    "res.json()"
   ]
  },
  {
   "cell_type": "code",
   "execution_count": null,
   "id": "308a3e96",
   "metadata": {},
   "outputs": [],
   "source": [
    "df = pd.DataFrame.from_dict(res.json())\n",
    "df.head()"
   ]
  },
  {
   "cell_type": "markdown",
   "id": "16436de1",
   "metadata": {},
   "source": [
    "## STEPS TO GET REPONSES\n",
    "\n",
    "1. Look for an API if it exists\n",
    "2. Read the docs that that person created\n",
    "3. I get the URL for the API: different from website url, \"api.something\"\n",
    "4. I can issue requests through Python to the API-url\n",
    "\n",
    "\n",
    "## STEPS TO MANIPULATE THE RESPONSES\n",
    "\n",
    "1. If request object -> pass res.json() _probably_\n",
    "2. I have a dictionary -> Do I want to turn it into a df?\n",
    "3. You MIGHT want to do `json_normalize(res.json())`"
   ]
  },
  {
   "cell_type": "markdown",
   "id": "mexican-links",
   "metadata": {},
   "source": [
    "## Headers"
   ]
  },
  {
   "cell_type": "markdown",
   "id": "fcae38be",
   "metadata": {
    "lang": "en"
   },
   "source": [
    "HTTP headers are an important part of the API request and response, as they represent the metadata associated with the API request and response. Headers carry information for:\n",
    "\n",
    "- Request and response body\n",
    "- Authorization of the request\n",
    "- Cache of the response\n",
    "- Response cookies"
   ]
  },
  {
   "cell_type": "markdown",
   "id": "994492e7",
   "metadata": {
    "lang": "en"
   },
   "source": [
    "## API Keys / tokens / private_keys\n",
    "Some of the APIs we use will require authentication."
   ]
  },
  {
   "cell_type": "markdown",
   "id": "educated-rotation",
   "metadata": {},
   "source": [
    "- https://github.com/settings/tokens\n",
    "- https://docs.github.com/es/rest/guides/getting-started-with-the-rest-api\n",
    "- https://pypi.org/project/python-dotenv/\n",
    "- https://docs.github.com/es/rest/reference/permissions-required-for-github-apps"
   ]
  },
  {
   "cell_type": "code",
   "execution_count": null,
   "id": "c03236d7",
   "metadata": {},
   "outputs": [],
   "source": [
    "github.com -> link to website\n",
    "api.github.com -> link to api"
   ]
  },
  {
   "cell_type": "code",
   "execution_count": null,
   "id": "63d3171f",
   "metadata": {},
   "outputs": [],
   "source": [
    "# 1st: Declare the URL: How many forks does a user have on a given repo"
   ]
  },
  {
   "cell_type": "code",
   "execution_count": null,
   "id": "621f7b1f",
   "metadata": {},
   "outputs": [],
   "source": [
    "# 1.1.: User\n",
    "# 1.2.: Repo"
   ]
  },
  {
   "cell_type": "code",
   "execution_count": null,
   "id": "3a17f393",
   "metadata": {},
   "outputs": [],
   "source": [
    "url_1 = \"https://api.github.com/repos/{}/{}/forks\".format(\"breogann\",\"data-analytics-challenge\")"
   ]
  },
  {
   "cell_type": "code",
   "execution_count": null,
   "id": "ba3a00bb",
   "metadata": {},
   "outputs": [],
   "source": [
    "url_1"
   ]
  },
  {
   "cell_type": "code",
   "execution_count": null,
   "id": "59d06a19",
   "metadata": {},
   "outputs": [],
   "source": [
    "url2 = f\"https://api.github.com/repos/{user}/{repo}/forks\""
   ]
  },
  {
   "cell_type": "code",
   "execution_count": null,
   "id": "115dc20c",
   "metadata": {},
   "outputs": [],
   "source": [
    "user = \"YonatanRA\"\n",
    "repo = \"Intro-redesb-neuronales\"\n",
    "url2"
   ]
  },
  {
   "cell_type": "code",
   "execution_count": null,
   "id": "41e1343e",
   "metadata": {},
   "outputs": [],
   "source": [
    "https://github.com/YonatanRA/Intro-redes-neuronales"
   ]
  },
  {
   "cell_type": "code",
   "execution_count": null,
   "id": "75525a89",
   "metadata": {},
   "outputs": [],
   "source": [
    "url_1 == url2"
   ]
  },
  {
   "cell_type": "code",
   "execution_count": null,
   "id": "13c4e972",
   "metadata": {},
   "outputs": [],
   "source": [
    "# 2nd: Declare parameters"
   ]
  },
  {
   "cell_type": "code",
   "execution_count": null,
   "id": "4252c997",
   "metadata": {},
   "outputs": [],
   "source": [
    "parameters = {\"Authorization\": f\"token {token}\"}"
   ]
  },
  {
   "cell_type": "code",
   "execution_count": null,
   "id": "efc98383",
   "metadata": {},
   "outputs": [],
   "source": [
    "parameters"
   ]
  },
  {
   "cell_type": "code",
   "execution_count": null,
   "id": "e3e9807a",
   "metadata": {},
   "outputs": [],
   "source": [
    "# 3rd: Do the request"
   ]
  },
  {
   "cell_type": "code",
   "execution_count": null,
   "id": "51263d76",
   "metadata": {},
   "outputs": [],
   "source": [
    "res = requests.get(url2, params = parameters) #the url i want to target AND the Auth for github api"
   ]
  },
  {
   "cell_type": "code",
   "execution_count": null,
   "id": "67d28ced",
   "metadata": {},
   "outputs": [],
   "source": [
    "res"
   ]
  },
  {
   "cell_type": "code",
   "execution_count": null,
   "id": "1d1a6092",
   "metadata": {},
   "outputs": [],
   "source": [
    "res.json()[0]"
   ]
  },
  {
   "cell_type": "code",
   "execution_count": null,
   "id": "836f6470",
   "metadata": {
    "scrolled": true
   },
   "outputs": [],
   "source": [
    "list_of_forks = pd.DataFrame(res.json())\n",
    "list_of_forks"
   ]
  },
  {
   "cell_type": "code",
   "execution_count": null,
   "id": "b0539419",
   "metadata": {},
   "outputs": [],
   "source": [
    "# Without doing a DF, I just want to get a list of users that forked my repo"
   ]
  },
  {
   "cell_type": "code",
   "execution_count": null,
   "id": "c23b805e",
   "metadata": {},
   "outputs": [],
   "source": [
    "my_respones = res.json()"
   ]
  },
  {
   "cell_type": "code",
   "execution_count": null,
   "id": "9f94c873",
   "metadata": {},
   "outputs": [],
   "source": [
    "my_respones[0][\"owner\"][\"login\"] #USERNAME: for the first element"
   ]
  },
  {
   "cell_type": "code",
   "execution_count": null,
   "id": "5e43a35b",
   "metadata": {},
   "outputs": [],
   "source": [
    "[element[\"owner\"][\"login\"] for element in my_respones] #for every element"
   ]
  },
  {
   "cell_type": "code",
   "execution_count": null,
   "id": "f0f3d5ab",
   "metadata": {},
   "outputs": [],
   "source": [
    "list(res.json()[0].keys())"
   ]
  },
  {
   "cell_type": "code",
   "execution_count": null,
   "id": "dirty-pearl",
   "metadata": {},
   "outputs": [],
   "source": [
    "#!pip install python-dotenv\n",
    "#conda install python-dotenv"
   ]
  },
  {
   "cell_type": "code",
   "execution_count": null,
   "id": "6a647b9c",
   "metadata": {},
   "outputs": [],
   "source": [
    "# 1. Create .env\n",
    "# 2. Include .env in our .gitignore\n",
    "# 3. Include environment variables into .env\n",
    "# 4. Import environment variables into notebooks\n",
    "# 5. DO NOT INCLUDE PRINTS OF THE VARIABLES ON YOUR NOTEBOOKS"
   ]
  },
  {
   "cell_type": "code",
   "execution_count": null,
   "id": "attractive-breathing",
   "metadata": {},
   "outputs": [],
   "source": [
    "import os\n",
    "from dotenv import load_dotenv #.env"
   ]
  },
  {
   "cell_type": "code",
   "execution_count": null,
   "id": "31e2c188",
   "metadata": {
    "scrolled": true
   },
   "outputs": [],
   "source": [
    "load_dotenv() #Looking for a .env file\n",
    "# and parse the text so that I recognize the value\n",
    "# when you ask for the variable"
   ]
  },
  {
   "cell_type": "code",
   "execution_count": null,
   "id": "a4d68727",
   "metadata": {},
   "outputs": [],
   "source": [
    "token = os.getenv(\"token\")\n",
    "#token"
   ]
  },
  {
   "cell_type": "code",
   "execution_count": null,
   "id": "4345cfa6",
   "metadata": {},
   "outputs": [],
   "source": [
    "parameters = {\"Authorization\":f\"token {token}\"}"
   ]
  },
  {
   "cell_type": "markdown",
   "id": "3a7488c7",
   "metadata": {
    "lang": "en"
   },
   "source": [
    "Philosophy of life : What I do for one element of the list I do for all of them in one iteration, so let's review the first element and then we'll see"
   ]
  },
  {
   "cell_type": "markdown",
   "id": "24bccf20",
   "metadata": {},
   "source": [
    "### Mini-recap\n",
    "\n",
    "- We might need tokens\n",
    "- Those tokensm, API owner provides to us\n",
    "- those tokens will let us Authenticate (1 way to auth)\n",
    "- We pass authentication through: params\n",
    "- Requests on python allows us to pass params to authenticate"
   ]
  },
  {
   "cell_type": "markdown",
   "id": "73593318",
   "metadata": {
    "lang": "en"
   },
   "source": [
    "## API Wrappers\n",
    "Most apps you'll want to request data from (social networks, search engines, etc.) will want to know who is accessing their app, how they plan to do so, and what they plan to do with the data.\n",
    "\n",
    "For these popular applications, there are also Python wrappers that have been written for their APIs that make interacting with them much easier than it otherwise would be. 🙌🏻"
   ]
  },
  {
   "cell_type": "markdown",
   "id": "a8e57617",
   "metadata": {
    "lang": "en"
   },
   "source": [
    "### Accessing the Twitter API with Python\n",
    "One example is the tweepy library which makes getting data from the Twitter API relatively easy.\n",
    "\n",
    "Before we can use it, we need to create a developer account (if we don't already have one, create an app and get Twitter credentials. To create a developer account, follow the steps below.\n",
    "\n",
    "Go to https://developer.twitter.com/en/apply-for-access.html.\n",
    "Click Request a developer account.\n",
    "Follow the instructions and provide the necessary information to create a developer account for personal use.\n",
    "Twitter will review your request and approve your account (assuming you haven't said you'll do something that violates their terms of service).\n",
    "After receiving confirmation that your developer account has been approved, you will need to create an app by logging into your account and following the steps to create a new app. Once the app is created, the next step is to get your credentials. These credentials will give you permission to access the Twitter API. Credentials consist of an API Key, API Secret Key, Access Token, and Access Secret Token. You can find them by viewing your app details and clicking the Keys and Tokens tab.\n",
    "\n",
    "Warning: You must keep your credentials in a safe place, never share them and never upload them to Github.\n",
    "\n",
    "Now that we've got our credentials, we can use tweepy to access the Twitter API as follows. Remember that you will need to replace the credentials below with your actual credentials for this code to work."
   ]
  },
  {
   "cell_type": "code",
   "execution_count": null,
   "id": "ranking-healing",
   "metadata": {},
   "outputs": [],
   "source": [
    "#Iporting tweepy lib rary\n",
    "import tweepy\n",
    "import os\n",
    "load_dotenv()"
   ]
  },
  {
   "cell_type": "code",
   "execution_count": null,
   "id": "allied-legislature",
   "metadata": {},
   "outputs": [],
   "source": [
    "API_KEY = os.getenv(\"API_KEY\")\n",
    "API_SECRET = os.getenv(\"API_SECRET\")\n",
    "ACCESS_TOKEN = os.getenv(\"ACCESS_TOKEN\")\n",
    "ACCESS_TOKEN_SECRET = os.getenv(\"ACCESS_TOKEN_SECRET\")"
   ]
  },
  {
   "cell_type": "markdown",
   "id": "3f4887f9",
   "metadata": {
    "lang": "en"
   },
   "source": [
    "We authenticate --> Documentation with more info [here](https://docs.tweepy.org/en/latest/auth_tutorial.html)"
   ]
  },
  {
   "cell_type": "code",
   "execution_count": null,
   "id": "historic-clock",
   "metadata": {},
   "outputs": [],
   "source": [
    "auth = tweepy.OAuthHandler(API_KEY, API_SECRET) #Esta es la forma de autenticarnos mediante tweepy\n",
    "auth.set_access_token(ACCESS_TOKEN, ACCESS_TOKEN_SECRET) "
   ]
  },
  {
   "cell_type": "code",
   "execution_count": null,
   "id": "461b542a",
   "metadata": {},
   "outputs": [],
   "source": [
    "api = tweepy.API(auth)"
   ]
  },
  {
   "cell_type": "markdown",
   "id": "28209b39",
   "metadata": {
    "lang": "en"
   },
   "source": [
    "How can I know what data I can get out of this tweepy object?\n",
    "Reading the [D O C U M E N T A T I O N](https://developer.twitter.com/en/docs/twitter-api/v1/data-dictionary/object-model/tweet)\n",
    "We also remember that we can see the methods of a class object with `dir(obj)`"
   ]
  },
  {
   "cell_type": "code",
   "execution_count": null,
   "id": "185281a4",
   "metadata": {},
   "outputs": [],
   "source": [
    "userID = \"realDonaldTrump\""
   ]
  },
  {
   "cell_type": "code",
   "execution_count": null,
   "id": "hybrid-tradition",
   "metadata": {},
   "outputs": [],
   "source": [
    "tweets = api.user_timeline(screen_name=userID, \n",
    "                           # 200 is the maximum allowed count\n",
    "                           count=200,\n",
    "                           include_rts = False,\n",
    "                           # Necessary to keep full_text \n",
    "                           # otherwise only the first 140 words are extracted\n",
    "                           tweet_mode = 'extended'\n",
    "                           )"
   ]
  },
  {
   "cell_type": "markdown",
   "id": "2a07bfce",
   "metadata": {
    "lang": "en"
   },
   "source": [
    "### Store tweets from an open account?\n",
    "Easy!"
   ]
  },
  {
   "cell_type": "code",
   "execution_count": null,
   "id": "renewable-crown",
   "metadata": {},
   "outputs": [],
   "source": []
  },
  {
   "cell_type": "markdown",
   "id": "d3a7d489",
   "metadata": {
    "lang": "en"
   },
   "source": [
    "How can I know what data I can get out of this tweepy object?\n",
    "Reading the [D O C U M E N T A T I O N](https://developer.twitter.com/en/docs/twitter-api/v1/data-dictionary/object-model/tweet)\n",
    "We also remember that we can see the methods of a class object with `dir(obj)`"
   ]
  },
  {
   "cell_type": "code",
   "execution_count": null,
   "id": "designed-beijing",
   "metadata": {},
   "outputs": [],
   "source": []
  },
  {
   "cell_type": "markdown",
   "id": "58385507",
   "metadata": {
    "lang": "en"
   },
   "source": [
    "## API Clients"
   ]
  },
  {
   "cell_type": "markdown",
   "id": "ecb99495",
   "metadata": {
    "lang": "en"
   },
   "source": [
    "### THIS IS FROM RAPIDAPI --> https://rapidapi.com/community/api/open-weather-map/"
   ]
  },
  {
   "cell_type": "code",
   "execution_count": null,
   "id": "resistant-editing",
   "metadata": {},
   "outputs": [],
   "source": [
    "import requests\n",
    "\n",
    "url = \"https://community-open-weather-map.p.rapidapi.com/weather\"\n",
    "\n",
    "querystring = {\"q\":\"London,uk\",\"lat\":\"0\",\"lon\":\"0\",\"callback\":\"test\",\"id\":\"2172797\",\"lang\":\"null\",\"units\":\"imperial\",\"mode\":\"xml\"}\n",
    "\n",
    "headers = {\n",
    "\"X-RapidAPI-Key\": \"272412e418msh5683016df51d4afp10cbd9jsnde96f0c49369\",\n",
    "\"X-RapidAPI-Host\": \"community-open-weather-map.p.rapidapi.com\"\n",
    "}\n",
    "\n",
    "response = requests.request(\"GET\", url, headers=headers, params=querystring)\n",
    "\n",
    "print(response.text)"
   ]
  },
  {
   "cell_type": "markdown",
   "id": "6f17a911",
   "metadata": {},
   "source": [
    "### Insomnia"
   ]
  },
  {
   "cell_type": "markdown",
   "id": "f301a56f",
   "metadata": {
    "lang": "en"
   },
   "source": [
    "We see insomnia --> https://insomnia.rest/download"
   ]
  },
  {
   "cell_type": "markdown",
   "id": "31bf4527",
   "metadata": {
    "lang": "en"
   },
   "source": [
    "In insomnia we can save different apis to be able to call them with a click, I leave you screenshots"
   ]
  },
  {
   "cell_type": "markdown",
   "id": "prime-liability",
   "metadata": {},
   "source": [
    "![insomnia](../images/in_1.png)\n",
    "![insomnia](../images/in_2.png)\n",
    "![insomnia](../images/in_3.png)\n",
    "![insomnia](../images/in_4.png)"
   ]
  },
  {
   "cell_type": "markdown",
   "id": "3e69cff5",
   "metadata": {
    "lang": "en"
   },
   "source": [
    "### Codes generated by insomnia"
   ]
  },
  {
   "cell_type": "code",
   "execution_count": null,
   "id": "silver-washer",
   "metadata": {
    "scrolled": true
   },
   "outputs": [],
   "source": [
    "import requests\n",
    "\n",
    "url = \"https://api.chucknorris.io/jokes/random\"\n",
    "\n",
    "payload = \"\"\n",
    "response = requests.request(\"GET\", url, data=payload)\n",
    "\n",
    "print(response.text)"
   ]
  },
  {
   "cell_type": "markdown",
   "id": "a40d6b35",
   "metadata": {},
   "source": [
    "## Spotify"
   ]
  },
  {
   "cell_type": "code",
   "execution_count": null,
   "id": "932ba981",
   "metadata": {},
   "outputs": [],
   "source": [
    "url = \"https://api.spotify.com/v1/playlists\""
   ]
  },
  {
   "cell_type": "code",
   "execution_count": null,
   "id": "dc3788e4",
   "metadata": {},
   "outputs": [],
   "source": [
    "# 1. Sign up as a developer -> client_id & client_secret\n",
    "# 2. Create an app (projects): tokens will be linked to this app\n",
    "# 3: Get credentials for authentication -> token for requests"
   ]
  },
  {
   "cell_type": "markdown",
   "id": "5f799494",
   "metadata": {},
   "source": [
    "### Load initial credentials"
   ]
  },
  {
   "cell_type": "code",
   "execution_count": null,
   "id": "a67f54a4",
   "metadata": {},
   "outputs": [],
   "source": [
    "load_dotenv()\n",
    "CLIENT_ID=os.getenv(\"CLIENT_ID\")\n",
    "CLIENT_SECRET=os.getenv(\"CLIENT_SECRET\")"
   ]
  },
  {
   "cell_type": "markdown",
   "id": "a669519a",
   "metadata": {},
   "source": [
    "### Get token from those initial credentials"
   ]
  },
  {
   "cell_type": "code",
   "execution_count": null,
   "id": "9ee2f661",
   "metadata": {},
   "outputs": [],
   "source": [
    "# From the docs\n",
    "\n",
    "url_token = \"https://accounts.spotify.com/api/token\""
   ]
  },
  {
   "cell_type": "code",
   "execution_count": null,
   "id": "928a8345",
   "metadata": {},
   "outputs": [],
   "source": [
    "# Defining params: body_params & url"
   ]
  },
  {
   "cell_type": "code",
   "execution_count": null,
   "id": "44b83f9d",
   "metadata": {},
   "outputs": [],
   "source": [
    "body_params = {\"grant_type\":\"client_credentials\"}"
   ]
  },
  {
   "cell_type": "code",
   "execution_count": null,
   "id": "355f5ad3",
   "metadata": {},
   "outputs": [],
   "source": [
    "# Requesting the token"
   ]
  },
  {
   "cell_type": "code",
   "execution_count": null,
   "id": "80538ec8",
   "metadata": {},
   "outputs": [],
   "source": [
    "response = requests.post(url_token, data=body_params, auth = (CLIENT_ID, CLIENT_SECRET))\n",
    "response"
   ]
  },
  {
   "cell_type": "code",
   "execution_count": null,
   "id": "367a2108",
   "metadata": {},
   "outputs": [],
   "source": [
    "token = response.json()[\"access_token\"]\n",
    "token"
   ]
  },
  {
   "cell_type": "markdown",
   "id": "e4a07e19",
   "metadata": {},
   "source": [
    "### With token, we can create the headers"
   ]
  },
  {
   "cell_type": "code",
   "execution_count": null,
   "id": "3ec47750",
   "metadata": {},
   "outputs": [],
   "source": [
    "#headers\n",
    "\n",
    "headers = {\"Authorization\":f\"Bearer {token}\"}"
   ]
  },
  {
   "cell_type": "code",
   "execution_count": null,
   "id": "961723a6",
   "metadata": {},
   "outputs": [],
   "source": [
    "playlist_id = \"2ac00RfnLIVfFe5cLcDRjB\" #reggaeton viejito"
   ]
  },
  {
   "cell_type": "code",
   "execution_count": null,
   "id": "c8566b58",
   "metadata": {},
   "outputs": [],
   "source": [
    "url = f\"https://api.spotify.com/v1/playlists/{playlist_id}\""
   ]
  },
  {
   "cell_type": "code",
   "execution_count": null,
   "id": "5dab85ab",
   "metadata": {},
   "outputs": [],
   "source": [
    "url"
   ]
  },
  {
   "cell_type": "code",
   "execution_count": null,
   "id": "fbcc93bf",
   "metadata": {},
   "outputs": [],
   "source": [
    "res = requests.get(url, headers=headers).json()"
   ]
  },
  {
   "cell_type": "markdown",
   "id": "9cf486f9",
   "metadata": {},
   "source": [
    "### The actual data"
   ]
  },
  {
   "cell_type": "code",
   "execution_count": null,
   "id": "c5032a5a",
   "metadata": {},
   "outputs": [],
   "source": [
    "res.keys()"
   ]
  },
  {
   "cell_type": "code",
   "execution_count": null,
   "id": "40e8e286",
   "metadata": {},
   "outputs": [],
   "source": [
    "res[\"description\"]"
   ]
  },
  {
   "cell_type": "code",
   "execution_count": null,
   "id": "0aff6c48",
   "metadata": {},
   "outputs": [],
   "source": [
    "res[\"tracks\"].keys()"
   ]
  },
  {
   "cell_type": "code",
   "execution_count": null,
   "id": "3e8dba04",
   "metadata": {},
   "outputs": [],
   "source": [
    "#song\n",
    "res[\"tracks\"][\"items\"][0][\"track\"][\"name\"]"
   ]
  },
  {
   "cell_type": "code",
   "execution_count": null,
   "id": "ddf86c17",
   "metadata": {},
   "outputs": [],
   "source": [
    "res[\"tracks\"][\"items\"]"
   ]
  },
  {
   "cell_type": "code",
   "execution_count": null,
   "id": "50c23dd9",
   "metadata": {},
   "outputs": [],
   "source": [
    "#artist\n",
    "res[\"tracks\"][\"items\"][0][\"track\"][\"artists\"][0][\"name\"]"
   ]
  },
  {
   "cell_type": "code",
   "execution_count": null,
   "id": "103f4e4d",
   "metadata": {},
   "outputs": [],
   "source": [
    "songs = [element[\"track\"][\"name\"] for element in res[\"tracks\"][\"items\"]]\n",
    "songs"
   ]
  },
  {
   "cell_type": "code",
   "execution_count": null,
   "id": "aa38a55b",
   "metadata": {
    "scrolled": true
   },
   "outputs": [],
   "source": [
    "artists = [element[\"track\"][\"artists\"][0][\"name\"] for element in res[\"tracks\"][\"items\"]]\n",
    "artists"
   ]
  },
  {
   "cell_type": "code",
   "execution_count": null,
   "id": "138d5e3e",
   "metadata": {},
   "outputs": [],
   "source": [
    "len(songs) == len(artists)"
   ]
  },
  {
   "cell_type": "code",
   "execution_count": null,
   "id": "14cb4096",
   "metadata": {
    "scrolled": true
   },
   "outputs": [],
   "source": [
    "[(sng, art) for sng, art in zip(songs, artists)]"
   ]
  },
  {
   "cell_type": "markdown",
   "id": "050c0c05",
   "metadata": {
    "lang": "en"
   },
   "source": [
    "## Summary"
   ]
  },
  {
   "cell_type": "markdown",
   "id": "f36b27c3",
   "metadata": {},
   "source": [
    "### What APIs are\n",
    "\n",
    "- Middleman between clients & servers\n",
    "- Get instructions and deliver something (jsons)\n",
    "- API: waiter, client (person eating), server (cook), request (order), authentication (drinks). You don't know how the dish is cooked, and you don't need to. -> You don't need to know how a DB is modeled nor its syntax to be able to retrieve something\n",
    "- APIs are built by someone else. They decide how it works. We always refer to the docs\n",
    "\n",
    "\n",
    "\n",
    "### How they work\n",
    "- Regular links will give us an HTML document\n",
    "- APIs will give us JSONs: we need to parse them into python objects by doing `object.json()`\n",
    "\n",
    "- We can pass parameters: options on how you want your request: steak, params = \"medium rare\"\n",
    "\n",
    "- We can get content & headers\n",
    "- We use request.get(url) -> get INFO, for reading\n",
    "- We can send information (spotify token) `request.post(url, params...)``\n",
    "\n",
    "\n",
    "\n",
    "### Authentication\n",
    "- How to use tokens\n",
    "- How to keep your tokens secure: `.env` -> environment variables we can save locally\n",
    "- Env variables we can ignore on git: including `.env` into our `.gitignore``\n",
    "- We ignore passwords, or we might be robbed. If we push a token to github, we'll be bombarded with emails from github\n",
    "\n",
    "### Process\n",
    "\n",
    "1. We find the API docs\n",
    "2. We find the API URL  (api.something)\n",
    "3. requests.get(url)\n",
    "4. If we need authentication, we'll define the headers/params\n",
    "5. We receive json -> json()\n",
    "6. We do whatever: info is already ours"
   ]
  },
  {
   "cell_type": "markdown",
   "id": "plastic-cleaner",
   "metadata": {},
   "source": [
    "## Further materials"
   ]
  },
  {
   "cell_type": "markdown",
   "id": "logical-essence",
   "metadata": {},
   "source": [
    "- [5 Simple-To-Use APIs for Beginners](https://dev.to/alanconstantino/5-simple-to-use-apis-for-beginners-2e0n)\n",
    "- [RapidAPI](https://rapidapi.com/category/Sports): access thousands of APIs!!\n",
    "- [More APIs](https://github.com/public-apis/public-apis)"
   ]
  }
 ],
 "metadata": {
  "kernelspec": {
   "display_name": "ironhack",
   "language": "python",
   "name": "ironhack"
  },
  "language_info": {
   "codemirror_mode": {
    "name": "ipython",
    "version": 3
   },
   "file_extension": ".py",
   "mimetype": "text/x-python",
   "name": "python",
   "nbconvert_exporter": "python",
   "pygments_lexer": "ipython3",
   "version": "3.8.13"
  },
  "nbTranslate": {
   "displayLangs": [
    "en",
    "es"
   ],
   "hotkey": "alt-a",
   "langInMainMenu": true,
   "sourceLang": "es",
   "targetLang": "en",
   "useGoogleTranslate": true
  },
  "toc": {
   "base_numbering": 1,
   "nav_menu": {},
   "number_sections": true,
   "sideBar": true,
   "skip_h1_title": true,
   "title_cell": "Table of Contents",
   "title_sidebar": "Contents",
   "toc_cell": true,
   "toc_position": {
    "height": "calc(100% - 180px)",
    "left": "10px",
    "top": "150px",
    "width": "184px"
   },
   "toc_section_display": true,
   "toc_window_display": true
  }
 },
 "nbformat": 4,
 "nbformat_minor": 5
}
