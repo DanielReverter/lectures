{
 "cells": [
  {
   "cell_type": "markdown",
   "id": "buried-palestinian",
   "metadata": {},
   "source": [
    "# Web Scraping"
   ]
  },
  {
   "cell_type": "markdown",
   "id": "unable-recall",
   "metadata": {},
   "source": [
    "![legtsgo](https://media.giphy.com/media/dwmNhd5H7YAz6/giphy.gif)"
   ]
  },
  {
   "cell_type": "markdown",
   "id": "intended-controversy",
   "metadata": {
    "toc": true
   },
   "source": [
    "<h1>Table of Contents<span class=\"tocSkip\"></span></h1>\n",
    "<div class=\"toc\"><ul class=\"toc-item\"><li><span><a href=\"#Why-using-web-scraping?\" data-toc-modified-id=\"Why-using-web-scraping?-1\"><span class=\"toc-item-num\">1&nbsp;&nbsp;</span>Why using web-scraping?</a></span></li><li><span><a href=\"#Use-cases\" data-toc-modified-id=\"Use-cases-2\"><span class=\"toc-item-num\">2&nbsp;&nbsp;</span>Use cases</a></span><ul class=\"toc-item\"><li><span><a href=\"#Tools\" data-toc-modified-id=\"Tools-2.1\"><span class=\"toc-item-num\">2.1&nbsp;&nbsp;</span>Tools</a></span></li></ul></li><li><span><a href=\"#HTML\" data-toc-modified-id=\"HTML-3\"><span class=\"toc-item-num\">3&nbsp;&nbsp;</span>HTML</a></span></li><li><span><a href=\"#What-Are-HTML-Tags?\" data-toc-modified-id=\"What-Are-HTML-Tags?-4\"><span class=\"toc-item-num\">4&nbsp;&nbsp;</span>What Are HTML Tags?</a></span></li><li><span><a href=\"#What-are-HTML-Attributes?\" data-toc-modified-id=\"What-are-HTML-Attributes?-5\"><span class=\"toc-item-num\">5&nbsp;&nbsp;</span>What are HTML Attributes?</a></span><ul class=\"toc-item\"><li><span><a href=\"#Golden-Rules-To-Remember\" data-toc-modified-id=\"Golden-Rules-To-Remember-5.1\"><span class=\"toc-item-num\">5.1&nbsp;&nbsp;</span>Golden Rules To Remember</a></span></li><li><span><a href=\"#Tags-(some)\" data-toc-modified-id=\"Tags-(some)-5.2\"><span class=\"toc-item-num\">5.2&nbsp;&nbsp;</span>Tags (some)</a></span></li><li><span><a href=\"#Attributes\" data-toc-modified-id=\"Attributes-5.3\"><span class=\"toc-item-num\">5.3&nbsp;&nbsp;</span>Attributes</a></span></li></ul></li><li><span><a href=\"#Beautitul-soup\" data-toc-modified-id=\"Beautitul-soup-6\"><span class=\"toc-item-num\">6&nbsp;&nbsp;</span>Beautitul soup</a></span></li><li><span><a href=\"#Difference-between-find_all()-and-select()\" data-toc-modified-id=\"Difference-between-find_all()-and-select()-7\"><span class=\"toc-item-num\">7&nbsp;&nbsp;</span>Difference between find_all() and select()</a></span><ul class=\"toc-item\"><li><ul class=\"toc-item\"><li><span><a href=\"#Find_all\" data-toc-modified-id=\"Find_all-7.0.1\"><span class=\"toc-item-num\">7.0.1&nbsp;&nbsp;</span>Find_all</a></span></li><li><span><a href=\"#Select\" data-toc-modified-id=\"Select-7.0.2\"><span class=\"toc-item-num\">7.0.2&nbsp;&nbsp;</span>Select</a></span></li></ul></li><li><span><a href=\"#Bento-diner\" data-toc-modified-id=\"Bento-diner-7.1\"><span class=\"toc-item-num\">7.1&nbsp;&nbsp;</span>Bento diner</a></span></li></ul></li><li><span><a href=\"#Let's-scrape-🥷\" data-toc-modified-id=\"Let's-scrape-🥷-8\"><span class=\"toc-item-num\">8&nbsp;&nbsp;</span>Let's scrape 🥷</a></span><ul class=\"toc-item\"><li><span><a href=\"#Example-1----Rufus\" data-toc-modified-id=\"Example-1----Rufus-8.1\"><span class=\"toc-item-num\">8.1&nbsp;&nbsp;</span>Example 1 -  Rufus</a></span></li><li><span><a href=\"#Example-2---Sillicon-valley\" data-toc-modified-id=\"Example-2---Sillicon-valley-8.2\"><span class=\"toc-item-num\">8.2&nbsp;&nbsp;</span>Example 2 - Sillicon valley</a></span></li><li><span><a href=\"#Example-3---Sneakers\" data-toc-modified-id=\"Example-3---Sneakers-8.3\"><span class=\"toc-item-num\">8.3&nbsp;&nbsp;</span>Example 3 - Sneakers</a></span></li><li><span><a href=\"#Example-4---1992-olympics-medal-table\" data-toc-modified-id=\"Example-4---1992-olympics-medal-table-8.4\"><span class=\"toc-item-num\">8.4&nbsp;&nbsp;</span>Example 4 - 1992 olympics medal table</a></span></li><li><span><a href=\"#Example-5---IMBD\" data-toc-modified-id=\"Example-5---IMBD-8.5\"><span class=\"toc-item-num\">8.5&nbsp;&nbsp;</span>Example 5 - IMBD</a></span></li></ul></li><li><span><a href=\"#Summary\" data-toc-modified-id=\"Summary-9\"><span class=\"toc-item-num\">9&nbsp;&nbsp;</span>Summary</a></span></li></ul></div>"
   ]
  },
  {
   "cell_type": "markdown",
   "id": "a2b9ea97",
   "metadata": {},
   "source": [
    "## Why using web-scraping?\n",
    "\n",
    "Web scraping is the process of collecting and parsing raw data from the internet. \n",
    "Why would you do that?\n"
   ]
  },
  {
   "cell_type": "markdown",
   "id": "560ed71c",
   "metadata": {},
   "source": [
    "- Advantages: Using APIs, sometimes you need to create an account, get authenticated, read documentation, follow certain rules... And you might have a limit (quota) of requests you can make. Web scraping is more free-style: you don't have these limitations. Also for: Automation\n",
    "\n",
    "\n",
    "- Disadvantages: You depend on the structure of the website you're trying to scrape. If the structure of the site is really messy, it might be a nightmare to create a script that collects the desired data. The structure of the website can change overnight and your code will simply break. Some websites are protected against web scraping, and the data they show on the screen is very difficult to access (for example, they can block you if you send too many requests, they can simply show data as images).\n",
    "\n",
    "\n",
    "\n"
   ]
  },
  {
   "cell_type": "markdown",
   "id": "7b978ffe",
   "metadata": {},
   "source": [
    "## Use cases\n",
    "\n",
    "- Market & product research: (scrape ecommerce sites and get the brands, products, prices, reviews… of your competitors!).\n",
    "\n",
    "- Lead generation: (scrape forums and find contact info of people that might be interested in your product... bit edgy but effective!).\n",
    "\n",
    "- Keyword research: (what is people mentioning when they talk about something in the internet? Those keywords might be really useful in SEO/Growth-hacking).\n",
    "\n",
    "- People Analytics: (the field of HR/Talent research is really benefiting from data science stuff. And they might need data like job descriptions, skills, offers… only available through web scraping).\n",
    "\n",
    "- Stock Analysis: (using data in the web to forecast...)\n",
    "\n",
    "- Media Gathering & Analysis: (how do different news outlets talk about the candidates of an important election? Web scrape them!) "
   ]
  },
  {
   "cell_type": "markdown",
   "id": "003374c3",
   "metadata": {},
   "source": [
    "### Tools\n",
    "\n",
    "- Beautiful soup\n",
    "- Scrapy\n",
    "- Selenium"
   ]
  },
  {
   "cell_type": "markdown",
   "id": "fee47382",
   "metadata": {
    "lang": "en"
   },
   "source": [
    "## HTML\n",
    "The HTML code is made up of `<labled>` content\n",
    "HTML has a hierarchical structure: parent tags, children tags, sibling tags\n"
   ]
  },
  {
   "cell_type": "code",
   "execution_count": null,
   "id": "66f5cd61",
   "metadata": {},
   "outputs": [],
   "source": [
    "# first website"
   ]
  },
  {
   "cell_type": "markdown",
   "id": "2e47fb77",
   "metadata": {},
   "source": [
    "![sdsd](https://www.simplilearn.com/ice9/free_resources_article_thumb/header-tag.PNG)"
   ]
  },
  {
   "cell_type": "markdown",
   "id": "c77e9df8",
   "metadata": {},
   "source": [
    "## What Are HTML Tags?\n",
    "Tags are used to mark up the start of an HTML element and they are usually enclosed in angle brackets. An example of a tag is: `<h1>`.   Most tags must be opened `<h1>` and closed `</h1>` in order to function.\n",
    "    \n",
    "    \n",
    "## What are HTML Attributes?\n",
    "Attributes contain additional pieces of information. Attributes take the form of an opening tag and additional info is placed inside.    An example of an attribute is: `<img>`\n",
    "`<img src=\"mydog.jpg\" alt=\"A photo of my dog.\">`\n",
    "\n",
    "In this instance, the image source (src) and the alt text (alt) are attributes of the `<img>` tag.\n",
    "\n",
    "### Golden Rules To Remember\n",
    "\n",
    "- The vast majority of tags must be opened (`<tag>`) and closed (`</tag>`) with the element information such as a title or text resting between the tags.\n",
    "- When using multiple tags, the tags must be closed in the order in which they were opened. For example:\n",
    "    \n",
    "`<strong><em>This is really important!</em></strong>`"
   ]
  },
  {
   "cell_type": "markdown",
   "id": "1d27d6e8",
   "metadata": {
    "lang": "en"
   },
   "source": [
    "### Tags (some)\n",
    "\n",
    "- heading: `<h1>`, `<h2>`, `<h3>`, `<hgroup>`...\n",
    "- containers: `<div>`, `<span>`, `<article>`...\n",
    "- phrasing: `<b>`, `<i>`, `<u>`...\n",
    "- hyperlinks: `<a>`\n",
    "- embedded: `<audio>`, `<img>`, `<video>`...\n",
    "- tabulated: `<table>`, `<tr>`, `<tbody>`, `<td>`...\n",
    "- sections: `<header>`, `<section>`, `<article>`...\n",
    "- metadata: `<meta>`, `<title>`, `<script>`..."
   ]
  },
  {
   "cell_type": "markdown",
   "id": "fa85be94",
   "metadata": {
    "lang": "en"
   },
   "source": [
    "### Attributes\n",
    "Attributes are properties that a tag may or may not have.\n",
    "\n",
    "`<div> Sneakers Brand Joma X54 </div>`\n",
    "\n",
    "In this case, the div tag has no attributes\n",
    "\n",
    "Now:\n",
    "\n",
    "`<div class=\"price-item\" id=\"offer\"> Sneakers Brand Joma X54 </div>`\n",
    "\n",
    "* a `div` tag\n",
    "* a `class` attribute\n",
    "* an `id` attribute\n",
    "\n",
    "\n",
    "The `id` attribute must be unique for a tag (no two tags can have the same `id`), however, `class` is not intended to be unique, it usually groups tags with similar behavior. That the id is unique is a convention, html does allow us to have the same id. We will not search by id, unless we want to search for something specific, because we will want to obtain a lot of data....\n",
    "\n",
    "Some frequently used attributes are:\n",
    "- `class`\n",
    "- `href`\n",
    "- `src`\n",
    "- `width`, `height`\n",
    "- `alt`"
   ]
  },
  {
   "cell_type": "markdown",
   "id": "7c710567",
   "metadata": {
    "lang": "en"
   },
   "source": [
    "## Beautitul soup\n",
    "“If you're just trying to pull data from a website. Beautiful Soup is here to help.\"\n",
    "\n",
    "But it will only help you if you [read the documentation](https://www.crummy.com/software/BeautifulSoup/bs4/doc/) 🤭\n",
    "\n",
    "Beautiful Soup is a Python library for getting data from HTML, XML, and other markup languages. Let's say that you have found some web pages that show relevant data for you, such as date information, content, address, values… but that web page does not provide any way to download the data directly. Beautiful Soup helps you extract particular content from a web page, remove the HTML markup, save the information, and even export it to you as an excel file.\n",
    "The Beautiful Soup documentation will give you an idea of ​​the variety of things the Beautiful Soup library will help you with, from isolating titles and links, to extracting all text from html tags, to altering the HTML within the document you're working with."
   ]
  },
  {
   "cell_type": "code",
   "execution_count": null,
   "id": "overhead-darwin",
   "metadata": {},
   "outputs": [],
   "source": [
    "import requests\n",
    "from bs4 import BeautifulSoup\n",
    "import pandas as pd\n",
    "import requests\n",
    "import re"
   ]
  },
  {
   "cell_type": "markdown",
   "id": "5c7f9fe2",
   "metadata": {},
   "source": [
    "`pip install lxml` ?"
   ]
  },
  {
   "cell_type": "code",
   "execution_count": null,
   "id": "3bd6d9f3",
   "metadata": {},
   "outputs": [],
   "source": [
    "url = \"https://www.python.org/\""
   ]
  },
  {
   "cell_type": "code",
   "execution_count": null,
   "id": "93c7db8d",
   "metadata": {},
   "outputs": [],
   "source": []
  },
  {
   "cell_type": "markdown",
   "id": "2454dbd0",
   "metadata": {
    "lang": "en"
   },
   "source": [
    "## Difference between find_all() and select()"
   ]
  },
  {
   "cell_type": "markdown",
   "id": "ec56690f",
   "metadata": {
    "lang": "en"
   },
   "source": [
    "#### Find_all\n",
    "[FINDALL DOCUMENTATION](https://www.crummy.com/software/BeautifulSoup/bs4/doc/#calling-a-tag-is-like-calling-find-all)\n",
    "The find_all() method scans the entire document for results."
   ]
  },
  {
   "cell_type": "markdown",
   "id": "957e75b5",
   "metadata": {},
   "source": [
    "`prices = soup.findAll(\"div\", {\"class\": \"price_product_box\"})`"
   ]
  },
  {
   "cell_type": "markdown",
   "id": "70070ece",
   "metadata": {
    "lang": "en"
   },
   "source": [
    "#### Select\n",
    "[SELECT DOCUMENTATION](https://www.crummy.com/software/BeautifulSoup/bs4/doc/#css-selectors)\n",
    "BeautifulSoup has a .select() method that is used by the SoupSieve package to execute a CSS selector against a parsed document and return all matching elements. Tag has a similar method that executes a CSS selector against the content of a single tag.\n"
   ]
  },
  {
   "cell_type": "markdown",
   "id": "67eae84d",
   "metadata": {},
   "source": [
    "`prices = soup.select(\"div.price_product_box\")`"
   ]
  },
  {
   "cell_type": "markdown",
   "id": "2a4a451b",
   "metadata": {},
   "source": [
    "### Bento diner\n",
    "\n",
    "https://flukeout.github.io/"
   ]
  },
  {
   "cell_type": "markdown",
   "id": "bb017920",
   "metadata": {},
   "source": [
    "## Let's scrape 🥷"
   ]
  },
  {
   "cell_type": "markdown",
   "id": "a4f87d52",
   "metadata": {
    "lang": "en"
   },
   "source": [
    "### Example 1 -  Rufus"
   ]
  },
  {
   "cell_type": "code",
   "execution_count": null,
   "id": "fabulous-indian",
   "metadata": {},
   "outputs": [],
   "source": [
    "url_rufus = \"https://es.wikipedia.org/wiki/Rufus_T._Firefly\""
   ]
  },
  {
   "cell_type": "code",
   "execution_count": null,
   "id": "0ce0e5d9",
   "metadata": {},
   "outputs": [],
   "source": []
  },
  {
   "cell_type": "markdown",
   "id": "916ea5de",
   "metadata": {},
   "source": [
    "### Example 2 - Sillicon valley"
   ]
  },
  {
   "cell_type": "code",
   "execution_count": null,
   "id": "4fa6582e",
   "metadata": {},
   "outputs": [],
   "source": [
    "sillicon_valley = 'https://en.wikipedia.org/wiki/Silicon_Valley_(TV_series)'"
   ]
  },
  {
   "cell_type": "markdown",
   "id": "5b253ec1",
   "metadata": {},
   "source": [
    "- Year\n",
    "- Ceremony\n",
    "- Category\n",
    "- Recipients\n",
    "- Result"
   ]
  },
  {
   "cell_type": "markdown",
   "id": "e0732aa8",
   "metadata": {
    "lang": "en"
   },
   "source": [
    "### Example 3 - Sneakers"
   ]
  },
  {
   "cell_type": "code",
   "execution_count": null,
   "id": "6c4d8365",
   "metadata": {},
   "outputs": [],
   "source": [
    "url = \"https://www.murallasport.com/29-zapatillas-moda-mujer\""
   ]
  },
  {
   "cell_type": "markdown",
   "id": "bced3688",
   "metadata": {},
   "source": [
    "- Name\n",
    "- Brand\n",
    "- Price\n",
    "- Link\n",
    "- Price\n",
    "- Description"
   ]
  },
  {
   "cell_type": "code",
   "execution_count": null,
   "id": "dd3455d1",
   "metadata": {},
   "outputs": [],
   "source": []
  },
  {
   "cell_type": "markdown",
   "id": "a41c4050",
   "metadata": {
    "lang": "en"
   },
   "source": [
    "### Example 4 - 1992 olympics medal table"
   ]
  },
  {
   "cell_type": "code",
   "execution_count": null,
   "id": "f9c759d9",
   "metadata": {},
   "outputs": [],
   "source": [
    "url = \"https://en.wikipedia.org/wiki/1992_Summer_Olympics_medal_table\""
   ]
  },
  {
   "cell_type": "markdown",
   "id": "23e0ab6a",
   "metadata": {},
   "source": [
    "- Table "
   ]
  },
  {
   "cell_type": "markdown",
   "id": "chubby-software",
   "metadata": {},
   "source": [
    "![elmedallero](../images/captura_medallero.png)"
   ]
  },
  {
   "cell_type": "code",
   "execution_count": null,
   "id": "moral-routine",
   "metadata": {},
   "outputs": [],
   "source": []
  },
  {
   "cell_type": "markdown",
   "id": "6c1d5179",
   "metadata": {},
   "source": [
    "### Example 5 - IMBD"
   ]
  },
  {
   "cell_type": "code",
   "execution_count": null,
   "id": "f06ff63e",
   "metadata": {},
   "outputs": [],
   "source": [
    "url = \"https://www.imdb.com/chart/top\""
   ]
  },
  {
   "cell_type": "markdown",
   "id": "6ea3f655",
   "metadata": {},
   "source": [
    "- Title\n",
    "- Director\n",
    "- Stars\n",
    "- Year"
   ]
  },
  {
   "cell_type": "code",
   "execution_count": null,
   "id": "a2f4d53a",
   "metadata": {},
   "outputs": [],
   "source": []
  },
  {
   "cell_type": "markdown",
   "id": "89de4955",
   "metadata": {
    "lang": "en"
   },
   "source": [
    "## Summary\n",
    "It's your turn, what have we learned today?\n"
   ]
  },
  {
   "cell_type": "code",
   "execution_count": null,
   "id": "discrete-bookmark",
   "metadata": {},
   "outputs": [],
   "source": []
  },
  {
   "cell_type": "markdown",
   "id": "b4147ccf",
   "metadata": {},
   "source": [
    "⚠️ Clear all output before pushing"
   ]
  }
 ],
 "metadata": {
  "kernelspec": {
   "display_name": "ironhack",
   "language": "python",
   "name": "ironhack"
  },
  "language_info": {
   "codemirror_mode": {
    "name": "ipython",
    "version": 3
   },
   "file_extension": ".py",
   "mimetype": "text/x-python",
   "name": "python",
   "nbconvert_exporter": "python",
   "pygments_lexer": "ipython3",
   "version": "3.8.13"
  },
  "nbTranslate": {
   "displayLangs": [
    "en",
    "es"
   ],
   "hotkey": "alt-a",
   "langInMainMenu": true,
   "sourceLang": "es",
   "targetLang": "en",
   "useGoogleTranslate": true
  },
  "toc": {
   "base_numbering": 1,
   "nav_menu": {},
   "number_sections": true,
   "sideBar": true,
   "skip_h1_title": true,
   "title_cell": "Table of Contents",
   "title_sidebar": "Contents",
   "toc_cell": true,
   "toc_position": {},
   "toc_section_display": true,
   "toc_window_display": false
  }
 },
 "nbformat": 4,
 "nbformat_minor": 5
}
